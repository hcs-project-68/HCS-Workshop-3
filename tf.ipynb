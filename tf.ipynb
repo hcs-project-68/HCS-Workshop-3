{
 "cells": [
  {
   "cell_type": "code",
   "execution_count": 1,
   "metadata": {},
   "outputs": [
    {
     "name": "stderr",
     "output_type": "stream",
     "text": [
      "WARNING:root:Limited tf.compat.v2.summary API due to missing TensorBoard installation.\n",
      "WARNING:root:Limited tf.compat.v2.summary API due to missing TensorBoard installation.\n",
      "WARNING:root:Limited tf.compat.v2.summary API due to missing TensorBoard installation.\n",
      "WARNING:root:Limited tf.summary API due to missing TensorBoard installation.\n"
     ]
    }
   ],
   "source": [
    "# This script solves for the first letter in a captcha based on https://www.researchgate.net/publication/248380891_captcha_dataset\n",
    "import tensorflow as tf\n",
    "from tensorflow import keras\n",
    "import numpy as np\n",
    "import os"
   ]
  },
  {
   "cell_type": "code",
   "execution_count": 2,
   "metadata": {},
   "outputs": [],
   "source": [
    "# Converts characters 0-9 and a-z to integer\n",
    "def index(c):\n",
    "    n = ord(c)\n",
    "    # a number\n",
    "    if n < 58:\n",
    "        return n - 48\n",
    "    else:\n",
    "        return n - 87"
   ]
  },
  {
   "cell_type": "code",
   "execution_count": 3,
   "metadata": {},
   "outputs": [],
   "source": [
    "# Load data\n",
    "images = os.listdir(\"./data/\")\n",
    "\n",
    "# Crop image to (roughly) the first letter to improve performance\n",
    "\n",
    "x_data = np.array([tf.image.decode_png(tf.io.read_file(\"data/\" + x))[:,20:70,0:1] for x in images])\n",
    "x_data = x_data.astype(\"float32\")\n",
    "x_data /= 255.0\n",
    "\n",
    "y_data = np.array([index(x[0]) for x in images])\n",
    "\n",
    "x_train = x_data[:900]\n",
    "y_train = y_data[:900]\n",
    "\n",
    "x_test = x_data[900:]\n",
    "y_test = y_data[900:]"
   ]
  },
  {
   "cell_type": "code",
   "execution_count": 4,
   "metadata": {},
   "outputs": [],
   "source": [
    "# Construct model\n",
    "model = keras.models.Sequential([\n",
    "    keras.layers.Conv2D(32, (4, 4), activation='relu', input_shape=(50, 50, 1)),\n",
    "    keras.layers.MaxPooling2D((2, 2)),\n",
    "    keras.layers.Conv2D(32, (4, 4), activation='relu'),\n",
    "    keras.layers.Flatten(),\n",
    "    keras.layers.Dropout(0.1),\n",
    "    keras.layers.Dense(256, activation='relu'),\n",
    "    keras.layers.Dropout(0.1),\n",
    "    keras.layers.Dense(36),\n",
    "])\n",
    "\n",
    "model.compile(optimizer='adam',\n",
    "              loss=keras.losses.SparseCategoricalCrossentropy(from_logits=True),\n",
    "              metrics=['accuracy'])"
   ]
  },
  {
   "cell_type": "code",
   "execution_count": 5,
   "metadata": {},
   "outputs": [
    {
     "name": "stdout",
     "output_type": "stream",
     "text": [
      "Epoch 1/10\n",
      "29/29 - 1s - loss: 1.6660 - accuracy: 0.5600 - val_loss: 0.1958 - val_accuracy: 0.9529\n",
      "Epoch 2/10\n",
      "29/29 - 1s - loss: 0.0675 - accuracy: 0.9844 - val_loss: 0.0877 - val_accuracy: 0.9765\n",
      "Epoch 3/10\n",
      "29/29 - 1s - loss: 0.0161 - accuracy: 0.9967 - val_loss: 0.1403 - val_accuracy: 0.9706\n",
      "Epoch 4/10\n",
      "29/29 - 1s - loss: 0.0178 - accuracy: 0.9944 - val_loss: 0.1084 - val_accuracy: 0.9824\n",
      "Epoch 5/10\n",
      "29/29 - 1s - loss: 0.0052 - accuracy: 0.9989 - val_loss: 0.0810 - val_accuracy: 0.9941\n",
      "Epoch 6/10\n",
      "29/29 - 1s - loss: 0.0019 - accuracy: 1.0000 - val_loss: 0.1335 - val_accuracy: 0.9824\n",
      "Epoch 7/10\n",
      "29/29 - 1s - loss: 0.0061 - accuracy: 0.9989 - val_loss: 0.1401 - val_accuracy: 0.9824\n",
      "Epoch 8/10\n",
      "29/29 - 1s - loss: 0.0092 - accuracy: 0.9978 - val_loss: 0.2060 - val_accuracy: 0.9765\n",
      "Epoch 9/10\n",
      "29/29 - 1s - loss: 0.0161 - accuracy: 0.9967 - val_loss: 0.0915 - val_accuracy: 0.9941\n",
      "Epoch 10/10\n",
      "29/29 - 1s - loss: 9.6594e-04 - accuracy: 1.0000 - val_loss: 0.1250 - val_accuracy: 0.9824\n"
     ]
    },
    {
     "data": {
      "text/plain": [
       "<tensorflow.python.keras.callbacks.History at 0x7f6e04078520>"
      ]
     },
     "execution_count": 5,
     "metadata": {},
     "output_type": "execute_result"
    }
   ],
   "source": [
    "# Train model\n",
    "model.fit(x_train, y_train,\n",
    "        epochs=10,\n",
    "        verbose=2,\n",
    "        validation_data=(x_test, y_test))"
   ]
  },
  {
   "cell_type": "code",
   "execution_count": null,
   "metadata": {},
   "outputs": [],
   "source": []
  }
 ],
 "metadata": {
  "kernelspec": {
   "display_name": "Python 3",
   "language": "python",
   "name": "python3"
  },
  "language_info": {
   "codemirror_mode": {
    "name": "ipython",
    "version": 3
   },
   "file_extension": ".py",
   "mimetype": "text/x-python",
   "name": "python",
   "nbconvert_exporter": "python",
   "pygments_lexer": "ipython3",
   "version": "3.8.6"
  }
 },
 "nbformat": 4,
 "nbformat_minor": 4
}
